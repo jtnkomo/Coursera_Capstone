{
 "cells": [
  {
   "cell_type": "markdown",
   "id": "0be255d1-6207-4863-8031-db76d5df0b3f",
   "metadata": {},
   "source": [
    "Data Science Coursera Capstone"
   ]
  },
  {
   "cell_type": "markdown",
   "id": "0f55d64d-d78d-41fa-9a37-b5345c10b84c",
   "metadata": {},
   "source": [
    "This notebook shows the code for the Data Science Capstone Project"
   ]
  },
  {
   "cell_type": "code",
   "execution_count": 1,
   "id": "453d6cf4-12b8-42fc-b533-0bb2433fdb70",
   "metadata": {},
   "outputs": [],
   "source": [
    "import pandas as pd\n",
    "import numpy as np"
   ]
  },
  {
   "cell_type": "code",
   "execution_count": 2,
   "id": "81b146b8-99ad-42d6-bd66-0fa6d71b15fe",
   "metadata": {},
   "outputs": [
    {
     "name": "stdout",
     "output_type": "stream",
     "text": [
      "Hello Capstone Project!\n"
     ]
    }
   ],
   "source": [
    "print('Hello Capstone Project!')"
   ]
  },
  {
   "cell_type": "code",
   "execution_count": null,
   "id": "ec8592bf-c1f2-40df-89b9-6c484bccd363",
   "metadata": {},
   "outputs": [],
   "source": []
  }
 ],
 "metadata": {
  "kernelspec": {
   "display_name": "Python",
   "language": "python",
   "name": "conda-env-python-py"
  },
  "language_info": {
   "codemirror_mode": {
    "name": "ipython",
    "version": 3
   },
   "file_extension": ".py",
   "mimetype": "text/x-python",
   "name": "python",
   "nbconvert_exporter": "python",
   "pygments_lexer": "ipython3",
   "version": "3.6.13"
  }
 },
 "nbformat": 4,
 "nbformat_minor": 5
}
