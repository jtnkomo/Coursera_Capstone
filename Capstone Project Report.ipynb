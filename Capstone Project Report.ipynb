{
 "cells": [
  {
   "cell_type": "markdown",
   "id": "f04badb9-5026-47be-a716-a508353719f3",
   "metadata": {},
   "source": [
    "# Capstone Project Report"
   ]
  },
  {
   "cell_type": "markdown",
   "id": "f31383b4-1df3-4ec4-b1aa-1153e402ba08",
   "metadata": {},
   "source": [
    "## Business Problem"
   ]
  },
  {
   "cell_type": "markdown",
   "id": "0a205d2b-06f5-446e-afe0-3ce2abd2769a",
   "metadata": {},
   "source": [
    "## Data"
   ]
  },
  {
   "cell_type": "markdown",
   "id": "0af39ebf-6a60-48e5-9342-a0eb35003bce",
   "metadata": {},
   "source": [
    "For this Project I want to explore New York City and Toronto city using Foursquare location data. Both cities are very diverse and are the financial capitals of their respective countries. The project will compare the neighborhoods of the two cities and determine how similar or dissimilar they are. The main focus will be venues in both cities. A simple comparison of the most frequent venues will be done. When deciding on starting a certain type of business, an investor can find out which business is the most common. This will help in the decision process."
   ]
  },
  {
   "cell_type": "code",
   "execution_count": null,
   "id": "70d8378a-a32a-4cd6-b448-5992226656b2",
   "metadata": {},
   "outputs": [],
   "source": [
    "## Data"
   ]
  },
  {
   "cell_type": "markdown",
   "id": "4826c789-96e1-411f-9a13-21978d0d7560",
   "metadata": {},
   "source": [
    "Foursquare location data will be used to explore the neighborhoods of New York City and Toronto City. Foursquare location data will be used to search for venues in the two cities. The data will be tabulated in frequency tables.   "
   ]
  }
 ],
 "metadata": {
  "kernelspec": {
   "display_name": "Python",
   "language": "python",
   "name": "conda-env-python-py"
  },
  "language_info": {
   "codemirror_mode": {
    "name": "ipython",
    "version": 3
   },
   "file_extension": ".py",
   "mimetype": "text/x-python",
   "name": "python",
   "nbconvert_exporter": "python",
   "pygments_lexer": "ipython3",
   "version": "3.6.13"
  }
 },
 "nbformat": 4,
 "nbformat_minor": 5
}
